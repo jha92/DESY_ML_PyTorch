{
 "cells": [
  {
   "cell_type": "code",
   "execution_count": null,
   "metadata": {
    "collapsed": false
   },
   "outputs": [],
   "source": [
    "%matplotlib inline"
   ]
  },
  {
   "cell_type": "markdown",
   "metadata": {},
   "source": [
    "\n",
    "Autograd: Automatic Differentiation\n",
    "===================================\n",
    "\n",
    "Central to all neural networks in PyTorch is the ``autograd`` package.\n",
    "Let’s first briefly visit this, and we will then go to training our\n",
    "first neural network.\n",
    "\n",
    "\n",
    "The ``autograd`` package provides automatic differentiation for all operations\n",
    "on Tensors. It is a define-by-run framework, which means that your backprop is\n",
    "defined by how your code is run, and that every single iteration can be\n",
    "different.\n",
    "\n",
    "Let us see this in more simple terms with some examples.\n",
    "\n",
    "Tensor\n",
    "--------\n",
    "\n",
    "``torch.Tensor`` is the central class of the package. If you set its attribute\n",
    "``.requires_grad`` as ``True``, it starts to track all operations on it. When\n",
    "you finish your computation you can call ``.backward()`` and have all the\n",
    "gradients computed automatically. The gradient for this tensor will be\n",
    "accumulated into ``.grad`` attribute.\n",
    "\n",
    "To stop a tensor from tracking history, you can call ``.detach()`` to detach\n",
    "it from the computation history, and to prevent future computation from being\n",
    "tracked.\n",
    "\n",
    "To prevent tracking history (and using memory), you can also wrap the code block\n",
    "in ``with torch.no_grad():``. This can be particularly helpful when evaluating a\n",
    "model because the model may have trainable parameters with `requires_grad=True`,\n",
    "but for which we don't need the gradients.\n",
    "\n",
    "There’s one more class which is very important for autograd\n",
    "implementation - a ``Function``.\n",
    "\n",
    "``Tensor`` and ``Function`` are interconnected and build up an acyclic\n",
    "graph, that encodes a complete history of computation. Each tensor has\n",
    "a ``.grad_fn`` attribute that references a ``Function`` that has created\n",
    "the ``Tensor`` (except for Tensors created by the user - their\n",
    "``grad_fn is None``).\n",
    "\n",
    "If you want to compute the derivatives, you can call ``.backward()`` on\n",
    "a ``Tensor``. If ``Tensor`` is a scalar (i.e. it holds a one element\n",
    "data), you don’t need to specify any arguments to ``backward()``,\n",
    "however if it has more elements, you need to specify a ``gradient``\n",
    "argument that is a tensor of matching shape.\n",
    "\n"
   ]
  },
  {
   "cell_type": "code",
   "execution_count": null,
   "metadata": {
    "collapsed": false
   },
   "outputs": [],
   "source": [
    "import torch"
   ]
  },
  {
   "cell_type": "markdown",
   "metadata": {},
   "source": [
    "Create a tensor and set requires_grad=True to track computation with it\n",
    "\n"
   ]
  },
  {
   "cell_type": "code",
   "execution_count": null,
   "metadata": {
    "collapsed": false
   },
   "outputs": [],
   "source": [
    "x = torch.ones(2, 2, requires_grad=True)\n",
    "print(x)"
   ]
  },
  {
   "cell_type": "markdown",
   "metadata": {},
   "source": [
    "Do an operation of tensor:\n",
    "\n"
   ]
  },
  {
   "cell_type": "code",
   "execution_count": null,
   "metadata": {
    "collapsed": false
   },
   "outputs": [],
   "source": [
    "y = x + 2\n",
    "print(y)"
   ]
  },
  {
   "cell_type": "markdown",
   "metadata": {},
   "source": [
    "``y`` was created as a result of an operation, so it has a ``grad_fn``.\n",
    "\n"
   ]
  },
  {
   "cell_type": "code",
   "execution_count": null,
   "metadata": {
    "collapsed": false
   },
   "outputs": [],
   "source": [
    "print(y.grad_fn)"
   ]
  },
  {
   "cell_type": "markdown",
   "metadata": {},
   "source": [
    "Do more operations on y\n",
    "\n"
   ]
  },
  {
   "cell_type": "code",
   "execution_count": null,
   "metadata": {
    "collapsed": false
   },
   "outputs": [],
   "source": [
    "z = y * y * 3\n",
    "out = z.mean()\n",
    "q=x**2\n",
    "print(z, out)\n",
    "print(q, out)"
   ]
  },
  {
   "cell_type": "markdown",
   "metadata": {},
   "source": [
    "``.requires_grad_( ... )`` changes an existing Tensor's ``requires_grad``\n",
    "flag in-place. The input flag defaults to ``False`` if not given.\n",
    "\n"
   ]
  },
  {
   "cell_type": "code",
   "execution_count": null,
   "metadata": {
    "collapsed": false
   },
   "outputs": [],
   "source": [
    "a = torch.randn(2, 2)\n",
    "a = ((a * 3) / (a - 1))\n",
    "print(a.requires_grad)\n",
    "a.requires_grad_(True)\n",
    "print(a.requires_grad)\n",
    "b = (a * a).sum()\n",
    "print(b.grad_fn)"
   ]
  },
  {
   "cell_type": "markdown",
   "metadata": {},
   "source": [
    "### We use a little tool to draw the list of operation on the computation graph\n",
    "\n",
    "https://github.com/szagoruyko/pytorchviz\n",
    "\n",
    "It produces Graphviz representation of PyTorch autograd graph.\n",
    "* Blue nodes are the Variables that require grad, \n",
    "* orange are Tensors saved for backward in torch.autograd.Function\n",
    "    Args:\n",
    "        var: output Variable\n",
    "        params: dict of (name, Variable) to add names to node that require grad\n"
   ]
  },
  {
   "cell_type": "code",
   "execution_count": null,
   "metadata": {},
   "outputs": [],
   "source": [
    "#!pip install git+https://github.com/szagoruyko/pytorchviz"
   ]
  },
  {
   "cell_type": "code",
   "execution_count": null,
   "metadata": {},
   "outputs": [],
   "source": [
    "from torchviz import make_dot\n",
    "# we neglect the parameter here which defines the names\n",
    "# the tool is meant for ploting models\n",
    "make_dot(out) "
   ]
  },
  {
   "cell_type": "markdown",
   "metadata": {},
   "source": [
    "Gradients\n",
    "---------\n",
    "Let's backprop now\n",
    "Because ``out`` contains a single scalar, ``out.backward()`` is\n",
    "equivalent to ``out.backward(torch.tensor(1))``.\n",
    "\n"
   ]
  },
  {
   "cell_type": "code",
   "execution_count": null,
   "metadata": {
    "collapsed": false
   },
   "outputs": [],
   "source": [
    "out.backward()"
   ]
  },
  {
   "cell_type": "markdown",
   "metadata": {},
   "source": [
    "print gradients d(out)/dx\n",
    "\n",
    "\n"
   ]
  },
  {
   "cell_type": "code",
   "execution_count": null,
   "metadata": {
    "collapsed": false
   },
   "outputs": [],
   "source": [
    "print(x.grad)"
   ]
  },
  {
   "cell_type": "markdown",
   "metadata": {},
   "source": [
    "You should have got a matrix of ``4.5``. Let’s call the ``out``\n",
    "*Tensor* “$o$”.\n",
    "We have that $o = \\frac{1}{4}\\sum_i z_i$,\n",
    "$z_i = 3(x_i+2)^2$ and $z_i\\bigr\\rvert_{x_i=1} = 27$.\n",
    "Therefore,\n",
    "$\\frac{\\partial o}{\\partial x_i} = \\frac{3}{2}(x_i+2)$, hence\n",
    "$\\frac{\\partial o}{\\partial x_i}\\bigr\\rvert_{x_i=1} = \\frac{9}{2} = 4.5$.\n",
    "\n"
   ]
  },
  {
   "cell_type": "markdown",
   "metadata": {},
   "source": [
    "<hr>\n",
    "Another simple example\n",
    "$L=\\sum_{i=0}^4 a_i^2$\n",
    "\n",
    "$\\frac{dL}{d\\vec{\\,a}}=grad(L)=2\\vec{\\,a}$"
   ]
  },
  {
   "cell_type": "code",
   "execution_count": null,
   "metadata": {},
   "outputs": [],
   "source": [
    "a=torch.tensor([1.,2.,3.,4.,5.],requires_grad=True)\n",
    "L=torch.sum(a*a) \n",
    "L.backward()\n",
    "print L\n",
    "print a.grad"
   ]
  },
  {
   "cell_type": "markdown",
   "metadata": {},
   "source": [
    "<hr>\n",
    "You can do many crazy things with autograd!\n",
    "\n",
    "What you run is what you differentiate.\n",
    "\n"
   ]
  },
  {
   "cell_type": "code",
   "execution_count": null,
   "metadata": {
    "collapsed": false
   },
   "outputs": [],
   "source": [
    "x = torch.randn(3, requires_grad=True)\n",
    "print x\n",
    "y = x * 2\n",
    "while y.data.norm() < 1000:\n",
    "    y = y * 2\n",
    "y=y.norm()\n",
    "print(y)\n",
    "#make_dot(y)"
   ]
  },
  {
   "cell_type": "code",
   "execution_count": null,
   "metadata": {
    "collapsed": false
   },
   "outputs": [],
   "source": [
    "y.backward()\n",
    "print(x.grad)"
   ]
  },
  {
   "cell_type": "markdown",
   "metadata": {},
   "source": [
    "You can also stop autograd from tracking history on Tensors\n",
    "with ``.requires_grad``=True by wrapping the code block in\n",
    "``with torch.no_grad():``\n",
    "\n"
   ]
  },
  {
   "cell_type": "code",
   "execution_count": null,
   "metadata": {
    "collapsed": false
   },
   "outputs": [],
   "source": [
    "print(x.requires_grad)\n",
    "print((x ** 2).requires_grad)\n",
    "\n",
    "with torch.no_grad():\n",
    "\tprint((x ** 2).requires_grad)"
   ]
  },
  {
   "cell_type": "markdown",
   "metadata": {},
   "source": [
    "**Read Later:**\n",
    "\n",
    "Documentation of ``autograd`` and ``Function`` is at\n",
    "http://pytorch.org/docs/autograd\n",
    "\n",
    "The backward argument can be used to select which part of the of the final object is considered"
   ]
  },
  {
   "cell_type": "code",
   "execution_count": null,
   "metadata": {},
   "outputs": [],
   "source": [
    "A=torch.tensor([[1.,2.],[3.,4.]],requires_grad=True)\n",
    "print 'A',A\n",
    "B=torch.mm(A,A)\n",
    "print 'B',B\n",
    "l=B[0,0]\n",
    "l.backward() # this is unique, l is 1-dim we do not need an argument\n",
    "#B[0,0] depends on A[0,0],A[1,0] and A[0,1] but not on A[1,1]\n",
    "#therefor A.grad[1,1] is zero\n",
    "print A.grad\n",
    "# the same but for l.shape=(2,2)\n",
    "A=torch.tensor([[1.,2.],[3.,4.]],requires_grad=True)\n",
    "print '\\nA',A\n",
    "B=torch.mm(A,A)\n",
    "print 'B',B\n",
    "l=B\n",
    "# now l is not a scalar but a 2x2 tensor\n",
    "# the chain of derivatives is multiplied with the backward argument\n",
    "# This allows to combine derivative calculations or here to select some gradient \n",
    "l.backward(torch.tensor([[1.,0],[0,0]])) \n",
    "print A.grad"
   ]
  },
  {
   "cell_type": "markdown",
   "metadata": {},
   "source": [
    "### We can also get higher derivatives\n",
    "\n",
    "torch.autograd.grad can be used to calculate derivatives of functions and can be used to define second or higher derivatives"
   ]
  },
  {
   "cell_type": "code",
   "execution_count": null,
   "metadata": {},
   "outputs": [],
   "source": [
    "# torch.autograd.grad for higher derivatives\n",
    "# a scalar\n",
    "x = torch.tensor(2., requires_grad=True)\n",
    "y=x**3\n",
    "print 'x',x,'- x.grad',x.grad\n",
    "print 'y',y\n",
    "print '--- grad ---'\n",
    "# autograd.grad() can create graph as any other operation that can be passed by x.backward later\n",
    "a=torch.autograd.grad(outputs=y, inputs=x, create_graph=True)[0] # 3*x**2 returns a 1-dim list\n",
    "print 'a',a\n",
    "print 'x',x,'- x.grad',x.grad\n",
    "#not need x.grad.data.zero_()\n",
    "print '--- backward ---'\n",
    "a.backward() # 2*3*x - x,grad is now second derivative\n",
    "print 'x',x,'- x.grad',x.grad"
   ]
  },
  {
   "cell_type": "code",
   "execution_count": null,
   "metadata": {},
   "outputs": [],
   "source": [
    "# torch.autograd.grad for higher derivatives\n",
    "# 1d now for tanh(x)\n",
    "x = torch.tensor(2., requires_grad=True)\n",
    "y=torch.tanh(x)\n",
    "print 'x',x,'- x.grad',x.grad\n",
    "print 'y',y\n",
    "print '--- grad ---'\n",
    "# create graph as any other operation that can be passed by x.backward later\n",
    "a=torch.autograd.grad(outputs=y, inputs=x, create_graph=True)[0] # 3*x**2 returns a 1-dim list\n",
    "print 'a',a\n",
    "print 'x',x,'- x.grad',x.grad\n",
    "#not need x.grad.data.zero_()\n",
    "print '--- backward ---'\n",
    "d=torch.ones_like(x)\n",
    "a.backward(d) # 2*3*x - x,grad is now second derivative\n",
    "print 'x',x,'- x.grad',x.grad,d"
   ]
  },
  {
   "cell_type": "code",
   "execution_count": null,
   "metadata": {},
   "outputs": [],
   "source": [
    "import torch\n",
    "import numpy as np\n",
    "from matplotlib import pyplot as plt\n",
    "plt.style.use('dark_background')\n",
    "from torch.autograd import grad"
   ]
  },
  {
   "cell_type": "code",
   "execution_count": null,
   "metadata": {},
   "outputs": [],
   "source": [
    "# function and first derivative\n",
    "xrange=np.linspace(-3,3,100)\n",
    "x=torch.tensor(xrange,requires_grad=True)\n",
    "y=torch.tanh(x)\n",
    "y.backward(torch.ones_like(x))  # backward(x) screwed up\n",
    "plt.plot(xrange, y.detach().numpy())\n",
    "plt.plot(xrange, x.grad.numpy())"
   ]
  },
  {
   "cell_type": "code",
   "execution_count": null,
   "metadata": {},
   "outputs": [],
   "source": [
    "# function and second derivative\n",
    "xrange=np.linspace(-3,3,100)\n",
    "x=torch.tensor(xrange,requires_grad=True)\n",
    "y=torch.tanh(x)\n",
    "# output f(x), input x, grad_outputs=defines shape\n",
    "# create graph for derivative calculation \n",
    "ox=torch.ones_like(x)\n",
    "a=torch.autograd.grad(outputs=y, inputs=x, \n",
    "                      grad_outputs=ox,\n",
    "                      create_graph=True)[0] # returns a 1-dim list\n",
    "y.backward(ox,retain_graph=True)\n",
    "plt.plot(xrange, y.detach().numpy())\n",
    "plt.plot(xrange, x.grad.numpy())\n",
    "x.grad.data.zero_()\n",
    "a.backward(torch.ones_like(x))\n",
    "plt.plot(xrange, x.grad.numpy())"
   ]
  },
  {
   "cell_type": "code",
   "execution_count": null,
   "metadata": {},
   "outputs": [],
   "source": [
    "# function and third derivative\n",
    "xrange=np.linspace(-7,7,100)\n",
    "x=torch.tensor(xrange,requires_grad=True)\n",
    "y=torch.tanh(x)\n",
    "# output f(x), input x, grad_outputs=defines shape\n",
    "# create graph for derivative calculation \n",
    "ox=torch.ones_like(x) # derivative pattern\n",
    "a=torch.autograd.grad(outputs=y, inputs=x, \n",
    "                      grad_outputs=ox,\n",
    "                      create_graph=True)[0] # returns a 1-dim list\n",
    "b=torch.autograd.grad(outputs=a, inputs=x, \n",
    "                      grad_outputs=ox,\n",
    "                      create_graph=True)[0] # returns a 1-dim list\n",
    "y.backward(ox,retain_graph=True)\n",
    "plt.plot(xrange, y.detach().numpy())\n",
    "plt.plot(xrange, x.grad.numpy())\n",
    "x.grad.data.zero_()\n",
    "a.backward(ox,retain_graph=True)\n",
    "plt.plot(xrange, x.grad.numpy())\n",
    "x.grad.data.zero_()\n",
    "b.backward(torch.ones_like(x),retain_graph=True)\n",
    "plt.plot(xrange, x.grad.numpy())"
   ]
  },
  {
   "cell_type": "code",
   "execution_count": null,
   "metadata": {},
   "outputs": [],
   "source": [
    "# torch.autograd.grad for higher derivatives\n",
    "x = torch.tensor(-2., requires_grad=True)\n",
    "y = torch.tanh(x)\n",
    "print 'x',x,'- x.grad',x.grad\n",
    "print 'y',y\n",
    "print '--- grad ---'\n",
    "# create graph as any other operation that can be passed by x.backward later\n",
    "a=torch.autograd.grad(outputs=y, inputs=x, grad_outputs=torch.ones_like(x),create_graph=True)[0] # 3*x**2 returns a 1-dim list\n",
    "print 'a'\n",
    "print 'x',x,'- x.grad',x.grad\n",
    "#not need x.grad.data.zero_()\n",
    "print '--- backward ---'\n",
    "a.backward(torch.ones_like(x)) # 2*3*x - x,grad is now second derivative\n",
    "print 'x',x,'- x.grad',x.grad\n",
    "make_dot(a)"
   ]
  },
  {
   "cell_type": "code",
   "execution_count": null,
   "metadata": {},
   "outputs": [],
   "source": []
  }
 ],
 "metadata": {
  "kernelspec": {
   "display_name": "Environment (conda_tensorflow_p27)",
   "language": "python",
   "name": "conda_tensorflow_p27"
  },
  "language_info": {
   "codemirror_mode": {
    "name": "ipython",
    "version": 2
   },
   "file_extension": ".py",
   "mimetype": "text/x-python",
   "name": "python",
   "nbconvert_exporter": "python",
   "pygments_lexer": "ipython2",
   "version": "2.7.15"
  }
 },
 "nbformat": 4,
 "nbformat_minor": 2
}
